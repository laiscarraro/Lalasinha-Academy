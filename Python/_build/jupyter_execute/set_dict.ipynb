{
 "cells": [
  {
   "cell_type": "markdown",
   "metadata": {
    "id": "L5jOD0nJ1BWQ"
   },
   "source": [
    "# Dicionários e conjuntos\n",
    "\n",
    "Por enquando, quando falamos sobre coleções de valores, falamos apenas sobre listas. No entanto, em python existem mais 2 estruturas importantes: o conjunto (*set*) e o dicionário (*dictionary*).  \n",
    "\n",
    "O conjunto é como se fosse uma lista, porém tem uma característica a mais: ele *não pode ter elementos repetidos*. Por isso, ele é uma boa ferramenta quando, por exemplo, precisamos tirar elementos repetidos de uma lista. Na célula abaixo, vamos utilizar as funções *list* (que muda o tipo do dado de entrada para o tipo lista) e *set* (que faz a conversão do tipo para conjunto)."
   ]
  },
  {
   "cell_type": "code",
   "execution_count": null,
   "metadata": {
    "colab": {
     "base_uri": "https://localhost:8080/"
    },
    "executionInfo": {
     "elapsed": 244,
     "status": "ok",
     "timestamp": 1628547600194,
     "user": {
      "displayName": "Lais Carraro Leme Cavalheiro",
      "photoUrl": "",
      "userId": "15498185604646105525"
     },
     "user_tz": 180
    },
    "id": "gBx80xy32J8d",
    "outputId": "53100570-5da1-4f0a-ba20-b69b2e17dbd4"
   },
   "outputs": [
    {
     "name": "stdout",
     "output_type": "stream",
     "text": [
      "['banana', 'tapioca', 'banana', 'banana', 'ovo', 'cuscuz', 'lentilha', 'banana']\n",
      "{'banana', 'cuscuz', 'tapioca', 'ovo', 'lentilha'}\n",
      "['banana', 'cuscuz', 'tapioca', 'ovo', 'lentilha']\n"
     ]
    }
   ],
   "source": [
    "lista_repetida = ['banana', 'tapioca', 'banana', 'banana', 'ovo', 'cuscuz', 'lentilha', 'banana']\n",
    "print(lista_repetida)\n",
    "conjunto = set(lista_repetida)\n",
    "print(conjunto)\n",
    "lista_sem_repeticao = list(conjunto)\n",
    "print(lista_sem_repeticao)"
   ]
  },
  {
   "cell_type": "markdown",
   "metadata": {
    "id": "tyF8KHnd2eFi"
   },
   "source": [
    "Perceba a diferença entre a linha do conjunto e a linha da lista: enquanto as listas utilizam colchetes ([), os conjuntos usam chaves ({). Portanto, para definirmos um conjunto à mão podemos usar as chavez e escrever como se fosse uma lista:"
   ]
  },
  {
   "cell_type": "code",
   "execution_count": null,
   "metadata": {
    "colab": {
     "base_uri": "https://localhost:8080/"
    },
    "executionInfo": {
     "elapsed": 237,
     "status": "ok",
     "timestamp": 1628547643621,
     "user": {
      "displayName": "Lais Carraro Leme Cavalheiro",
      "photoUrl": "",
      "userId": "15498185604646105525"
     },
     "user_tz": 180
    },
    "id": "DroHpgN526si",
    "outputId": "9e9d6b30-6b5d-4009-a85f-d176521d0571"
   },
   "outputs": [
    {
     "name": "stdout",
     "output_type": "stream",
     "text": [
      "{'b', 'e', 'a', 'c', 'd'}\n"
     ]
    }
   ],
   "source": [
    "conjunto = {'a', 'b', 'c', 'd', 'e'}\n",
    "print(conjunto)"
   ]
  },
  {
   "cell_type": "markdown",
   "metadata": {
    "id": "tnEa89D53eDq"
   },
   "source": [
    "Perceba, também, que a ordem dos nossos elementos parece estar \"errada\". Isso é porque, ao contrário das listas, os elementos não têm uma ordem definida dentro dos conjuntos. Por esse motivo, não conseguimos acessar um índice específico nos conjuntos:"
   ]
  },
  {
   "cell_type": "code",
   "execution_count": null,
   "metadata": {
    "id": "8CcCvtz05EOY"
   },
   "outputs": [],
   "source": [
    "conjunto[0]"
   ]
  },
  {
   "cell_type": "markdown",
   "metadata": {
    "id": "kmrfmPiA31gx"
   },
   "source": [
    "Uma das vantagens de se usar sets é que podemos fazer operações entre conjuntos, como união, intersecção, diferença, etc. Veja, abaixo, como pegar a intersecção entre 2 conjuntos:"
   ]
  },
  {
   "cell_type": "code",
   "execution_count": null,
   "metadata": {
    "colab": {
     "base_uri": "https://localhost:8080/"
    },
    "executionInfo": {
     "elapsed": 237,
     "status": "ok",
     "timestamp": 1628547713688,
     "user": {
      "displayName": "Lais Carraro Leme Cavalheiro",
      "photoUrl": "",
      "userId": "15498185604646105525"
     },
     "user_tz": 180
    },
    "id": "jrYmwZWd5f0n",
    "outputId": "ae4897a0-0364-47f0-bf96-fdd82b95ef8d"
   },
   "outputs": [
    {
     "name": "stdout",
     "output_type": "stream",
     "text": [
      "{2, 3, 5}\n"
     ]
    }
   ],
   "source": [
    "a = {1, 2, 3, 4, 5}\n",
    "b = {2, 3, 6, 8, 9, 0, 5}\n",
    "print(a.intersection(b))"
   ]
  },
  {
   "cell_type": "markdown",
   "metadata": {
    "id": "T9Kf9hes5vI1"
   },
   "source": [
    "Além dos conjuntos, temos também os *dicionários*. Os dicionários são pares de chave e valor usados para otimizar a busca por valores específicos dentro de uma coleção. Vamos supor, por exemplo, a situação abaixo:"
   ]
  },
  {
   "cell_type": "code",
   "execution_count": null,
   "metadata": {
    "colab": {
     "base_uri": "https://localhost:8080/"
    },
    "executionInfo": {
     "elapsed": 241,
     "status": "ok",
     "timestamp": 1628547859368,
     "user": {
      "displayName": "Lais Carraro Leme Cavalheiro",
      "photoUrl": "",
      "userId": "15498185604646105525"
     },
     "user_tz": 180
    },
    "id": "GJyaEY5nH385",
    "outputId": "ed9d9c31-33b0-4185-e95e-0b149e324aa5"
   },
   "outputs": [
    {
     "name": "stdout",
     "output_type": "stream",
     "text": [
      "7\n",
      "Quantidade de tartarugas no zoo: 53\n",
      "\n",
      "7\n",
      "Quantidade de tartarugas no zoo: 53\n"
     ]
    }
   ],
   "source": [
    "nome_dos_animais = ['Alce', 'Hipopótamo', 'Dinossauro', 'Arara', 'Antílope', 'Mamute', 'Pato', 'Tartaruga', 'Girafa', 'Jararaca', 'Lobo']\n",
    "qtd_no_zoo = [12, 15, 0, 63, 23, 0, 512, 53, 37, 48, 2]\n",
    "\n",
    "# Suponha que queremos encontrar a posição (ou seja, o ÍNDICE) do elemento 'Tartaruga' dentro da lista acima, para depois ver sua quantidade no zoo:\n",
    "\n",
    "indice = 0\n",
    "for i in range(len(nome_dos_animais)): # temos que percorrer todos os itens da lista até encontrar o elemento 'Tartaruga'\n",
    "  if nome_dos_animais[i] == 'Tartaruga':\n",
    "    indice = i\n",
    "print(indice)\n",
    "print('Quantidade de tartarugas no zoo: ' + str(qtd_no_zoo[indice])) # Podemos, então, usar o índice para procurar na lista de quantidades\n",
    "print()\n",
    "\n",
    "# Existe uma função que faz isso. ATENÇÃO!!!! Ela faz a mesma coisa que fizemos ali em cima!!! Não é mais eficiente!!!\n",
    "print(nome_dos_animais.index('Tartaruga'))\n",
    "print('Quantidade de tartarugas no zoo: ' + str(qtd_no_zoo[nome_dos_animais.index('Tartaruga')]))"
   ]
  },
  {
   "cell_type": "markdown",
   "metadata": {
    "id": "F83EaGYPJHW-"
   },
   "source": [
    "A lista em que procuramos é muito pequenininha. Imagina se tentássemos fazer isso com 1 milhão de valores! Começa a ser um pouco mais complicado. Por esse motivo, podemos utilizar os *dicionários*. Veja abaixo como eles são estruturados: "
   ]
  },
  {
   "cell_type": "code",
   "execution_count": null,
   "metadata": {
    "colab": {
     "base_uri": "https://localhost:8080/"
    },
    "executionInfo": {
     "elapsed": 241,
     "status": "ok",
     "timestamp": 1628548127720,
     "user": {
      "displayName": "Lais Carraro Leme Cavalheiro",
      "photoUrl": "",
      "userId": "15498185604646105525"
     },
     "user_tz": 180
    },
    "id": "QPW6K6q_B0b9",
    "outputId": "a4daa8d4-cdf3-4af0-c367-3a14667c13ad"
   },
   "outputs": [
    {
     "data": {
      "text/plain": [
       "{'Alce': 12,\n",
       " 'Antílope': 23,\n",
       " 'Arara': 63,\n",
       " 'Dinossauro': 0,\n",
       " 'Girafa': 37,\n",
       " 'Hipopótamo': 15,\n",
       " 'Jararaca': 48,\n",
       " 'Lobo': 2,\n",
       " 'Mamute': 0,\n",
       " 'Pato': 512,\n",
       " 'Tartaruga': 53}"
      ]
     },
     "execution_count": 13,
     "metadata": {
      "tags": []
     },
     "output_type": "execute_result"
    }
   ],
   "source": [
    "animais = {nome_dos_animais[i]: qtd_no_zoo[i] for i in range(len(nome_dos_animais))}\n",
    "animais"
   ]
  },
  {
   "cell_type": "code",
   "execution_count": null,
   "metadata": {
    "id": "sPSrvlXoLr0H"
   },
   "outputs": [],
   "source": [
    "animais = {\n",
    "    'Alce': 12,\n",
    "    'Hipopótamo': 15,\n",
    "    'Dinossauro': 0,\n",
    "    'Arara': 63,\n",
    "    'Antílope': 23,\n",
    "    'Mamute': 0,\n",
    "    'Pato': 512,\n",
    "    'Tartaruga': 53,\n",
    "    'Girafa': 37,\n",
    "    'Jararaca': 48,\n",
    "    'Lobo': 2\n",
    "}"
   ]
  },
  {
   "cell_type": "markdown",
   "metadata": {
    "id": "pW7A0JK4MMU3"
   },
   "source": [
    "Cada ítem de um dicionário tem uma *chave* (key) e um *valor* (value). É fácil gerar, a partir de um dicionário, uma lista de chaves e uma lista de valores, utilizando as funções \".keys()\" e \".values()\":"
   ]
  },
  {
   "cell_type": "code",
   "execution_count": null,
   "metadata": {
    "colab": {
     "base_uri": "https://localhost:8080/"
    },
    "executionInfo": {
     "elapsed": 254,
     "status": "ok",
     "timestamp": 1628548183285,
     "user": {
      "displayName": "Lais Carraro Leme Cavalheiro",
      "photoUrl": "",
      "userId": "15498185604646105525"
     },
     "user_tz": 180
    },
    "id": "SeTXWFGgMVuY",
    "outputId": "8b934f00-8f58-4b19-cc48-6a67fd412e8f"
   },
   "outputs": [
    {
     "name": "stdout",
     "output_type": "stream",
     "text": [
      "dict_keys(['Alce', 'Hipopótamo', 'Dinossauro', 'Arara', 'Antílope', 'Mamute', 'Pato', 'Tartaruga', 'Girafa', 'Jararaca', 'Lobo'])\n",
      "dict_values([12, 15, 0, 63, 23, 0, 512, 53, 37, 48, 2])\n"
     ]
    }
   ],
   "source": [
    "print(animais.keys())\n",
    "print(animais.values())"
   ]
  },
  {
   "cell_type": "markdown",
   "metadata": {
    "id": "HTPZ0POXMjwp"
   },
   "source": [
    "Para acessar o VALOR de um elemento, apenas precisamos acessar o dicionário como se fosse uma lista, mas ao invés do índice, podemos escrever a CHAVE:"
   ]
  },
  {
   "cell_type": "code",
   "execution_count": null,
   "metadata": {
    "colab": {
     "base_uri": "https://localhost:8080/"
    },
    "executionInfo": {
     "elapsed": 224,
     "status": "ok",
     "timestamp": 1628548240324,
     "user": {
      "displayName": "Lais Carraro Leme Cavalheiro",
      "photoUrl": "",
      "userId": "15498185604646105525"
     },
     "user_tz": 180
    },
    "id": "9Sc-CxQTMvzG",
    "outputId": "9b014f88-5e3b-4ede-931d-64a0aa52d26c"
   },
   "outputs": [
    {
     "name": "stdout",
     "output_type": "stream",
     "text": [
      "Quantidade de tartarugas no zoo: 53\n"
     ]
    }
   ],
   "source": [
    "print('Quantidade de tartarugas no zoo: ' + str(animais['Tartaruga']))"
   ]
  },
  {
   "cell_type": "markdown",
   "metadata": {
    "id": "h9LUvhDwNeY1"
   },
   "source": [
    "Para percorrer todos os ítens:"
   ]
  },
  {
   "cell_type": "code",
   "execution_count": null,
   "metadata": {
    "colab": {
     "base_uri": "https://localhost:8080/"
    },
    "executionInfo": {
     "elapsed": 247,
     "status": "ok",
     "timestamp": 1628548276734,
     "user": {
      "displayName": "Lais Carraro Leme Cavalheiro",
      "photoUrl": "",
      "userId": "15498185604646105525"
     },
     "user_tz": 180
    },
    "id": "Y2CickOvNQUD",
    "outputId": "0f1a20ba-cbcb-4c7e-c257-88f5d14ec96c"
   },
   "outputs": [
    {
     "name": "stdout",
     "output_type": "stream",
     "text": [
      "Quantidade de Alces no zoo: 12\n",
      "Quantidade de Hipopótamos no zoo: 15\n",
      "Quantidade de Dinossauros no zoo: 0\n",
      "Quantidade de Araras no zoo: 63\n",
      "Quantidade de Antílopes no zoo: 23\n",
      "Quantidade de Mamutes no zoo: 0\n",
      "Quantidade de Patos no zoo: 512\n",
      "Quantidade de Tartarugas no zoo: 53\n",
      "Quantidade de Girafas no zoo: 37\n",
      "Quantidade de Jararacas no zoo: 48\n",
      "Quantidade de Lobos no zoo: 2\n"
     ]
    }
   ],
   "source": [
    "for animal in animais.keys():\n",
    "  print('Quantidade de ' + animal + 's no zoo: ' + str(animais[animal]))"
   ]
  },
  {
   "cell_type": "markdown",
   "metadata": {
    "id": "1CDpCMkiN8Rt"
   },
   "source": [
    "Por enquanto, é só! Agora, vamos fazer alguns exercícios?"
   ]
  },
  {
   "cell_type": "code",
   "execution_count": null,
   "metadata": {
    "colab": {
     "base_uri": "https://localhost:8080/"
    },
    "executionInfo": {
     "elapsed": 237,
     "status": "ok",
     "timestamp": 1628548353561,
     "user": {
      "displayName": "Lais Carraro Leme Cavalheiro",
      "photoUrl": "",
      "userId": "15498185604646105525"
     },
     "user_tz": 180
    },
    "id": "pXHFWp36N_we",
    "outputId": "bf443179-fa0d-49df-ffee-9447b70b6e89"
   },
   "outputs": [
    {
     "name": "stdout",
     "output_type": "stream",
     "text": [
      "5092\n",
      "110984\n",
      "5192\n",
      "394\n",
      "4112\n",
      "5904\n",
      "1234\n",
      "5783\n",
      "14872\n",
      "5150\n"
     ]
    }
   ],
   "source": [
    "# Percorra o conjunto abaixo e imprima seus elementos:\n",
    "conj = {1234, 110984, 5192, 5092, 14872, 4112, 5904, 5150, 5783, 394}\n",
    "\n",
    "for c in conj:\n",
    "  print(c)"
   ]
  },
  {
   "cell_type": "code",
   "execution_count": null,
   "metadata": {
    "colab": {
     "base_uri": "https://localhost:8080/"
    },
    "executionInfo": {
     "elapsed": 383,
     "status": "ok",
     "timestamp": 1628548407896,
     "user": {
      "displayName": "Lais Carraro Leme Cavalheiro",
      "photoUrl": "",
      "userId": "15498185604646105525"
     },
     "user_tz": 180
    },
    "id": "UWrprXd4QIr1",
    "outputId": "aeb986b1-d594-43e9-eeac-34a6719ace57"
   },
   "outputs": [
    {
     "name": "stdout",
     "output_type": "stream",
     "text": [
      "{'banana nanica', 'maçã', 'maçã verde', 'maçã verde verde', 'banana prata', 'maçã normal verde', 'banana maçã', 'banana', 'banana verde'}\n"
     ]
    }
   ],
   "source": [
    "# Imprima a união dos dois conjuntos a seguir:\n",
    "a = {'banana', 'banana nanica', 'banana verde', 'banana maçã', 'banana prata'}\n",
    "b = {'maçã', 'maçã verde', 'maçã verde verde', 'maçã normal verde'}\n",
    "\n",
    "print(a.union(b))"
   ]
  },
  {
   "cell_type": "code",
   "execution_count": null,
   "metadata": {
    "colab": {
     "base_uri": "https://localhost:8080/"
    },
    "executionInfo": {
     "elapsed": 255,
     "status": "ok",
     "timestamp": 1628548628953,
     "user": {
      "displayName": "Lais Carraro Leme Cavalheiro",
      "photoUrl": "",
      "userId": "15498185604646105525"
     },
     "user_tz": 180
    },
    "id": "FI-YRfwdQvG5",
    "outputId": "0cc68d70-f2b0-4655-9977-f79f327fe4b0"
   },
   "outputs": [
    {
     "name": "stdout",
     "output_type": "stream",
     "text": [
      "dirigindo meu carro, dirigindo meu carro, eu vou à praia dirigindo o meu carro\n"
     ]
    }
   ],
   "source": [
    "# Imprima o valor no dicionário abaixo com a chave 5:\n",
    "musicas = {\n",
    "    12: 'alecrim, alecrim dourado',\n",
    "    20: 'se essa rua, se essa rua fosse minha',\n",
    "    0: 'nana nenê que a cuca vem pegar',\n",
    "    5: 'cabeça, ombro, joelho e pé (joelho e pé!)',\n",
    "    10: 'dirigindo meu carro, dirigindo meu carro, eu vou à praia dirigindo o meu carro'\n",
    "}\n",
    "\n",
    "print(musicas[10])"
   ]
  },
  {
   "cell_type": "code",
   "execution_count": null,
   "metadata": {
    "colab": {
     "base_uri": "https://localhost:8080/"
    },
    "executionInfo": {
     "elapsed": 3,
     "status": "ok",
     "timestamp": 1628548966628,
     "user": {
      "displayName": "Lais Carraro Leme Cavalheiro",
      "photoUrl": "",
      "userId": "15498185604646105525"
     },
     "user_tz": 180
    },
    "id": "uuVGrD-BO8Aj",
    "outputId": "8c52d068-1870-4f74-82fd-1ada6339027e"
   },
   "outputs": [
    {
     "data": {
      "text/plain": [
       "['Luminária: Móvel que ilumina a casa',\n",
       " 'Cachorro: Bichinho de estimação',\n",
       " 'Boneca: Brinquedo de crianças que simula uma pessoa',\n",
       " 'Batata: Tubérculo que fica muito bom em qualquer coisa']"
      ]
     },
     "execution_count": 38,
     "metadata": {
      "tags": []
     },
     "output_type": "execute_result"
    }
   ],
   "source": [
    "# Percorra o dicionário abaixo e imprima seus elementos no formato \"chave: valor\"\n",
    "dicionario = {\n",
    "    'Luminária': 'Móvel que ilumina a casa',\n",
    "    'Cachorro': 'Bichinho de estimação',\n",
    "    'Boneca': 'Brinquedo de crianças que simula uma pessoa',\n",
    "    'Batata': 'Tubérculo que fica muito bom em qualquer coisa'\n",
    "}\n",
    "\n",
    "[i+': '+dicionario[i] for i in dicionario]"
   ]
  }
 ],
 "metadata": {
  "colab": {
   "authorship_tag": "ABX9TyPr7rwma2WPnYLYE3r4ZA0k",
   "collapsed_sections": [],
   "name": "set_dict.ipynb",
   "provenance": []
  },
  "kernelspec": {
   "display_name": "Python 3",
   "name": "python3"
  },
  "language_info": {
   "name": "python"
  }
 },
 "nbformat": 4,
 "nbformat_minor": 0
}