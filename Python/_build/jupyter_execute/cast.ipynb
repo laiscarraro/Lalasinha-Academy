{
 "cells": [
  {
   "cell_type": "markdown",
   "metadata": {
    "id": "kmvZ6nRWxuGb"
   },
   "source": [
    "# Conversão de tipos (*cast*)"
   ]
  },
  {
   "cell_type": "markdown",
   "metadata": {
    "id": "kLM0yl_YTQom"
   },
   "source": [
    "*Cast* quer dizer mudar o tipo de uma variável. Um dos melhores exemplos para explicar a necessidade do cast é na função print. Por exemplo, tente rodar o código abaixo:"
   ]
  },
  {
   "cell_type": "code",
   "execution_count": null,
   "metadata": {
    "id": "7Aywmqu88BjV"
   },
   "outputs": [],
   "source": [
    "idade = 21\n",
    "print('Eu tenho ' + idade + ' anos.')"
   ]
  },
  {
   "cell_type": "markdown",
   "metadata": {
    "id": "-ORLJlVk8JOs"
   },
   "source": [
    "Não dá certo! Por quê?\n",
    "\n",
    "Tentamos \"somar\" tipos de dados diferentes. O operador \"+\", como já vimos, faz a soma de dois números, inteiros ou decimais. Quando utilizamos o mesmo operador com duas strings, no entanto, estamos querendo fazer outra operação: a de *concatenação* (juntar duas strings). Isso funciona no código abaixo:"
   ]
  },
  {
   "cell_type": "code",
   "execution_count": null,
   "metadata": {
    "id": "QusICtjI_rlo"
   },
   "outputs": [],
   "source": [
    "idade = '21'\n",
    "print('Eu tenho ' + idade + ' anos.')"
   ]
  },
  {
   "cell_type": "markdown",
   "metadata": {
    "id": "wK7OHpoi_v81"
   },
   "source": [
    "Por que funciona?\n",
    "\n",
    "Porque dessa vez \"idade\" também é uma string. Como poderíamos fazer isso de forma automática? Fazendo o cast da variável para string! As funções de cast em python levam o nome do tipo de dado alvo:\n",
    "\n",
    "- `int()` transforma um dado para o tipo inteiro;\n",
    "- `str()` transforma um dado para o tipo string;\n",
    "- `float()` transforma um dado para o tipo float;\n",
    "- etc.\n",
    "\n",
    "Vamos testar agora com a função str():"
   ]
  },
  {
   "cell_type": "code",
   "execution_count": null,
   "metadata": {
    "id": "AJZ4tEkwAhvw"
   },
   "outputs": [],
   "source": [
    "idade = 21\n",
    "print('Eu tenho ' + idade + ' anos.')"
   ]
  },
  {
   "cell_type": "markdown",
   "metadata": {
    "id": "ptGzLez2An9M"
   },
   "source": [
    "Vamos brincar um pouco com as outras funções:"
   ]
  },
  {
   "cell_type": "code",
   "execution_count": null,
   "metadata": {
    "id": "OujUuRAcAsEu"
   },
   "outputs": [],
   "source": [
    "# Corrija o código abaixo\n",
    "\n",
    "soma = 10 + '13.2'\n",
    "print(soma)"
   ]
  },
  {
   "cell_type": "code",
   "execution_count": null,
   "metadata": {
    "id": "B5cUWShKeqiX"
   },
   "outputs": [],
   "source": [
    "# Corrija o código abaixo\n",
    "\n",
    "mensagem = 'Você fez ' + 123 + ' pontos!'\n",
    "print(mensagem)"
   ]
  },
  {
   "cell_type": "code",
   "execution_count": null,
   "metadata": {
    "id": "G2zkleimerCa"
   },
   "outputs": [],
   "source": [
    "# Corrija o código abaixo\n",
    "\n",
    "a = 12\n",
    "b = 'testes'\n",
    "c = 'eu fiz ' + a + ' ' + b\n",
    "\n",
    "print(c)"
   ]
  }
 ],
 "metadata": {
  "colab": {
   "authorship_tag": "ABX9TyPmmXEQEFZH2d5f0F5uYVpD",
   "collapsed_sections": [],
   "name": "cast.ipynb",
   "provenance": []
  },
  "kernelspec": {
   "display_name": "Python 3",
   "name": "python3"
  },
  "language_info": {
   "name": "python"
  }
 },
 "nbformat": 4,
 "nbformat_minor": 0
}