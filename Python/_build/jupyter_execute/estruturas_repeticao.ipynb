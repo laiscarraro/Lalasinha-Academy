{
 "cells": [
  {
   "cell_type": "markdown",
   "metadata": {
    "id": "GrM8hx_AUiB2"
   },
   "source": [
    "# Estruturas de repetição: *for*\n",
    "\n",
    "Já sabemos mexer com listas, então vejamos o seguinte problema: dada uma lista de nomes, quero imprimir todos os nomes precedidos pela frase \"Meu nome é \", um em cada linha. Vamos supor que nossa entrada seja a seguinte:\n",
    "\n",
    "```\n",
    "nomes = ['Lais', 'Melissa', 'Shrek', 'Shakira']\n",
    "```\n",
    "\n",
    "Para imprimir todos os nomes, podemos escrever o código a seguir:\n",
    "\n"
   ]
  },
  {
   "cell_type": "code",
   "execution_count": null,
   "metadata": {
    "colab": {
     "base_uri": "https://localhost:8080/"
    },
    "executionInfo": {
     "elapsed": 11,
     "status": "ok",
     "timestamp": 1625091353869,
     "user": {
      "displayName": "Lais Carraro Leme Cavalheiro",
      "photoUrl": "",
      "userId": "15498185604646105525"
     },
     "user_tz": 180
    },
    "id": "iIDEfwp4YmQq",
    "outputId": "33e6d81f-7952-4bfc-add7-5073b5e507a7"
   },
   "outputs": [
    {
     "name": "stdout",
     "output_type": "stream",
     "text": [
      "Meu nome é Lais\n",
      "Meu nome é Melissa\n",
      "Meu nome é Shrek\n",
      "Meu nome é Shakira\n"
     ]
    }
   ],
   "source": [
    "nomes = ['Lais', 'Melissa', 'Shrek', 'Shakira']\n",
    "\n",
    "print('Meu nome é ' + nomes[0])\n",
    "print('Meu nome é ' + nomes[1])\n",
    "print('Meu nome é ' + nomes[2])\n",
    "print('Meu nome é ' + nomes[3])"
   ]
  },
  {
   "cell_type": "markdown",
   "metadata": {
    "id": "oC3F7zGeYwt1"
   },
   "source": [
    "E funciona! Sucesso.\n",
    "\n",
    "Agora, vamos olhar para o mesmo problema, porém teremos uma entrada diferente:\n",
    "\n",
    "```\n",
    "nomes = ['Lais', 'Melissa', 'Shrek', 'Shakira', 'Mariana', 'Miriam', 'Mell', 'Adriano', 'Cristiana', 'Paula', 'Sophia', 'Josué', 'Adailson', \n",
    "'Tatiane', 'Gabriela', 'Thiago', 'Bruna', 'Anna', 'Rosângela', 'Rodrigo', 'Fátima', 'Claudia', 'Iago', 'Cassandra']\n",
    "```\n",
    "\n",
    "No nosso método atual, o código ficaria um pouco maiorzinho...\n",
    "\n",
    "```\n",
    "print('Meu nome é ' + nomes[0])\n",
    "print('Meu nome é ' + nomes[1])\n",
    "print('Meu nome é ' + nomes[2])\n",
    "print('Meu nome é ' + nomes[3])\n",
    "...\n",
    "print('Meu nome é + nomes[22])\n",
    "```\n",
    "Para isso, existe uma estrutura que **repete** um código específico, num número de vezes que você determinar e com as variações que você determinar. Como ficaria o pseudocódigo para fazer isso?\n",
    "\n",
    "```\n",
    "para cada nome em nomes:\n",
    "  print('Meu nome é ' + nome)\n",
    "```\n",
    "\n",
    "Vamos traduzir para inglês? Surpreendentemente, quando fazemos isso, já temos o código em python com a sintaxe correta!\n"
   ]
  },
  {
   "cell_type": "code",
   "execution_count": null,
   "metadata": {
    "id": "M_NbnQn6bVWH"
   },
   "outputs": [],
   "source": [
    "nomes = ['Lais', 'Melissa', 'Shrek', 'Shakira', 'Mariana', 'Miriam', 'Mell', 'Adriano', 'Cristiana', 'Paula', 'Sophia', 'Josué', 'Adailson', \n",
    "'Tatiane', 'Gabriela', 'Thiago', 'Bruna', 'Anna', 'Rosângela', 'Rodrigo', 'Fátima', 'Claudia', 'Iago', 'Cassandra']\n",
    "\n",
    "for nome in nomes:\n",
    "  print('Meu nome é ' + nome)"
   ]
  },
  {
   "cell_type": "markdown",
   "metadata": {
    "id": "BjlW4-v_bcOS"
   },
   "source": [
    "(OBS.: \"para cada\" em inglês seria \"for each\", porém python omite a palavra \"each\", e ficamos só com o \"for\")\n",
    "\n",
    "Vamos praticar \\o/"
   ]
  },
  {
   "cell_type": "code",
   "execution_count": null,
   "metadata": {
    "id": "wQPG5OtecnQ5"
   },
   "outputs": [],
   "source": [
    "# Complete o código!\n",
    "\n",
    "alfabeto = ['a', 'b', 'c', 'd', 'e', 'f', 'g', 'h', 'i', 'j', 'k', 'l', 'm', 'n', 'o', 'p', 'q', 'r', 's', 't', 'u', 'v', 'w', 'x', 'y', 'z']\n",
    "\n",
    "for ____ in alfabeto:\n",
    "  print(____)"
   ]
  },
  {
   "cell_type": "code",
   "execution_count": null,
   "metadata": {
    "id": "OmZEPMi_cOTi"
   },
   "outputs": [],
   "source": [
    "# Complete o código!\n",
    "\n",
    "idades = [10, 20, 30, 40, 50]\n",
    "soma = 0\n",
    "\n",
    "for ___ in ___:\n",
    "  soma = _________\n",
    "\n",
    "print(soma)"
   ]
  },
  {
   "cell_type": "code",
   "execution_count": null,
   "metadata": {
    "id": "mQHC28VN1K28"
   },
   "outputs": [],
   "source": [
    "# Complete o código!\n",
    "\n",
    "numeros = [1, 5, 200, 8, 10, 481902, 131, 537189, 471983712, 31731, 473283971, 4198371, 1327131, 49719831, 789372189]\n",
    "maior = 0\n",
    "\n",
    "for numero in ____:\n",
    "  if ____ > maior:\n",
    "    ____ = numero\n",
    "\n",
    "print(maior)"
   ]
  }
 ],
 "metadata": {
  "colab": {
   "authorship_tag": "ABX9TyPFFBOkrSNzmfT2mp55ieEA",
   "collapsed_sections": [],
   "name": "estruturas_repeticao.ipynb",
   "provenance": []
  },
  "kernelspec": {
   "display_name": "Python 3",
   "name": "python3"
  },
  "language_info": {
   "name": "python"
  }
 },
 "nbformat": 4,
 "nbformat_minor": 0
}