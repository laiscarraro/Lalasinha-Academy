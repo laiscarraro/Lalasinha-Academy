{
 "cells": [
  {
   "cell_type": "markdown",
   "metadata": {
    "id": "PaU_OE3vEOUT"
   },
   "source": [
    "# Bem-vinda/o!\n",
    "\n",
    "Primeiramente, parabéns por querer aprender a programar, e por tomar a iniciativa! E saiba que python foi uma ótima escolha. Isso porque python:\n",
    "\n",
    "- É uma linguagem simples e intuitiva\n",
    "- É largamente utilizada em desenvolvimento e em ciência de dados\n",
    "- Possui um arsenal imenso de bibliotecas\n",
    "- Tem uma comunidade ativa que cresce a cada dia\n",
    "- Sua comunidade já criou muito material de apoio (este é um exemplo!)\n",
    "\n",
    "Este curso foca numa abordagem prática para o aprendizado de conceitos básicos de programação e da linguagem python. Partimos do pressuposto de que você não sabe programar, porém mesmo que já tenha conhecimento de lógica de programação ou já saiba programar em outra linguagem, este curso pode ser interessante para aprender alguns detalhes interessantes e particularidades da linguagem python.\n",
    "\n",
    "Bons estudos!"
   ]
  }
 ],
 "metadata": {
  "colab": {
   "authorship_tag": "ABX9TyOhmwpR0ulP46cqq++0c7K1",
   "name": "intro.ipynb",
   "provenance": []
  },
  "kernelspec": {
   "display_name": "Python 3",
   "name": "python3"
  },
  "language_info": {
   "name": "python"
  }
 },
 "nbformat": 4,
 "nbformat_minor": 0
}