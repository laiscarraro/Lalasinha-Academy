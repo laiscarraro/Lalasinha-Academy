{
 "cells": [
  {
   "cell_type": "markdown",
   "metadata": {
    "id": "Z1IuomuQMjcC"
   },
   "source": [
    "# Funções\n",
    "\n",
    "Estamos sempre falando sobre como código repetido não é um bom sinal, e que em python sempre tem um jeito mais compacto de fazer algo. Vamos, então, supor a seguinte situação:\n",
    "\n",
    "Um professor tem 30 alunos e gostaria de calcular a média das notas de todos eles e imprimir o nome do aluno com sua média final, para cada aluno. O problema é que ele não tem esses dados numa única lista, então não tem como percorrer com um for só... Como isso ficaria?"
   ]
  },
  {
   "cell_type": "code",
   "execution_count": null,
   "metadata": {
    "id": "shz7f9EdlmGb"
   },
   "outputs": [],
   "source": [
    "nome = 'Maria'\n",
    "notas = [10, 8, 9, 10]\n",
    "soma = 0\n",
    "for nota in notas:\n",
    "  soma += nota\n",
    "media = soma/len(notas)\n",
    "print(nome + ': ' + str(media))"
   ]
  },
  {
   "cell_type": "markdown",
   "metadata": {
    "id": "xT_u81E1l_dG"
   },
   "source": [
    "Funcionar, funciona, mas... como faríamos para, por exemplo, imprimir a média de 3 alunos diferentes?"
   ]
  },
  {
   "cell_type": "code",
   "execution_count": null,
   "metadata": {
    "id": "Mkcri_FOmZgk"
   },
   "outputs": [],
   "source": [
    "nome = 'Maria'\n",
    "notas = [10, 8, 9, 10]\n",
    "soma = 0\n",
    "for nota in notas:\n",
    "  soma += nota\n",
    "media = soma/len(notas)\n",
    "print(nome + ': ' + str(media))\n",
    "\n",
    "nome = 'João'\n",
    "notas = [8, 9, 7, 8]\n",
    "soma = 0\n",
    "for nota in notas:\n",
    "  soma += nota\n",
    "media = soma/len(notas)\n",
    "print(nome + ': ' + str(media))\n",
    "\n",
    "nome = 'Alice'\n",
    "notas = [7, 8, 9, 10]\n",
    "soma = 0\n",
    "for nota in notas:\n",
    "  soma += nota\n",
    "media = soma/len(notas)\n",
    "print(nome + ': ' + str(media))"
   ]
  },
  {
   "cell_type": "markdown",
   "metadata": {
    "id": "0jFFZcpgms8k"
   },
   "source": [
    "Com 7 linhas de código para cada aluno mais uma linha de espaço, teríamos 239 linhas de código para calcular a nota de todos os 30 alunos. Pouquinho, né? Será que tem como fazer melhor?\n",
    "\n",
    "Tem sim! Com uma coisa chamada _função_. Lembra da função de matemática, na forma $f(x) = x^2$ e coisas assim? É quase igual! Vamos ver o vocabulário de funções que você já deve conhecer:\n",
    "\n",
    "- Uma função recebe dados de *entrada*, manipula-os e devolve uma *saída*, que é o resultado do processamento das entradas.\n",
    "\n",
    "- A *declaração* ou *DEFinição* de uma função ocorre quando DEFinimos como será este processamento. Por exemplo, ao escrevermos que $f(x) = x^2$, estamos dizendo que qualquer número que entrar nessa função sairá ao quadrado.\n",
    "\n",
    "- Os *parâmetros* de uma função são as \"letrinhas\" que usamos na definição da função, que são *representações* abstratas dos dados de entrada. Por exemplo, na nossa função $f(x) = x^2$, o $x$ é o que representa o nosso número de entrada. Da mesma forma, na função $f(x, y, z) = x^2 + 2y^3 + 3z$, nossos parâmetros são $x$, $y$ e $z$, pois eles representam os números que vão entrar na nossa função.\n",
    "\n",
    "- A *chamada* de uma função é quando nós efetivamente utilizamos essa função com valores reais. Se usarmos a nossa definição de $f(x) = x^2$, por exemplo, uma chamada dessa função poderia ser $f(2)$. Nesse caso, $f(2) = 2^2 = 4$. Poderíamos chamar essa função com quaisquer números ($f(3), f(15), f(123)$, etc). Podemos chamar também nosso $f(x, y, z)$: em $f(1, 2, 3)$ temos que $x = 1$, $y = 2$ e $z = 3$. O resultado seria, então, $1^2 + 2*2^3 + 3*3 = 1 + 16 + 9 = 26$.\n",
    "\n",
    "- Por fim, os *argumentos* são os dados específicos que utilizamos na chamada de uma função. Na nossa chamada de $f(2)$, por exemplo, nosso argumento era o número $2$. Já na chamada de $f(1, 2, 3)$, nossos argumentos eram $1$, $2$ e $3$.\n",
    "\n",
    "Ufa! Bastante coisa, né? O bom é que todas essas definições são aplicáveis também a funções em python! Vamos ver como fazer funções em python na prática? Abaixo, temos a DEFinição de uma função (rsrs):"
   ]
  },
  {
   "cell_type": "code",
   "execution_count": null,
   "metadata": {
    "id": "LAqyNyuC4AyT"
   },
   "outputs": [],
   "source": [
    "def f(x):\n",
    "  return x**2"
   ]
  },
  {
   "cell_type": "markdown",
   "metadata": {
    "id": "lHGKWpJI4v0Z"
   },
   "source": [
    "O nome da nossa função é f, temos apenas um parâmetro, que é o x, e o que essa função *retorna* é o número x ao quadrado. Opa! Essa é a mesma função de matemática que tínhamos usado como exemplo ($f(x) = x^2$)!\n",
    "\n",
    "A definição de funções em python sempre terá essa mesma estrutura:\n",
    "\n",
    "```\n",
    "def nome_da_funcao(parametros):\n",
    "  # processamento da entrada (pode ter várias linhas e vários parâmetros)\n",
    "  return resultado_do_processamento\n",
    "```\n",
    "\n",
    "Legal! Agora, vamos chamar essa função pra ver se ela funciona mesmo?"
   ]
  },
  {
   "cell_type": "code",
   "execution_count": null,
   "metadata": {
    "colab": {
     "base_uri": "https://localhost:8080/"
    },
    "executionInfo": {
     "elapsed": 258,
     "status": "ok",
     "timestamp": 1630176926852,
     "user": {
      "displayName": "Lais Carraro Leme Cavalheiro",
      "photoUrl": "",
      "userId": "15498185604646105525"
     },
     "user_tz": 180
    },
    "id": "-OKtWXvM5rUV",
    "outputId": "1f01ed2d-c5e3-42b0-ab12-234eb8502f68"
   },
   "outputs": [
    {
     "data": {
      "text/plain": [
       "4"
      ]
     },
     "execution_count": 20,
     "metadata": {},
     "output_type": "execute_result"
    }
   ],
   "source": [
    "f(2)"
   ]
  },
  {
   "cell_type": "markdown",
   "metadata": {
    "id": "8T2vkMvM4kdZ"
   },
   "source": [
    "Funciona! E sabe o melhor? Podemos chamar ela várias vezes sem precisar escrever o código outra vez!"
   ]
  },
  {
   "cell_type": "code",
   "execution_count": null,
   "metadata": {
    "colab": {
     "base_uri": "https://localhost:8080/"
    },
    "executionInfo": {
     "elapsed": 250,
     "status": "ok",
     "timestamp": 1630176940166,
     "user": {
      "displayName": "Lais Carraro Leme Cavalheiro",
      "photoUrl": "",
      "userId": "15498185604646105525"
     },
     "user_tz": 180
    },
    "id": "lm4ybzEf50Y1",
    "outputId": "7df80884-4250-40e7-ff6a-e6a80c6f3986"
   },
   "outputs": [
    {
     "name": "stdout",
     "output_type": "stream",
     "text": [
      "0\n",
      "1\n",
      "4\n",
      "9\n",
      "16\n",
      "25\n",
      "36\n",
      "49\n",
      "64\n",
      "81\n"
     ]
    }
   ],
   "source": [
    "for i in range(10):\n",
    "  print(f(i))"
   ]
  },
  {
   "cell_type": "markdown",
   "metadata": {
    "id": "lceJQby4556p"
   },
   "source": [
    "Nem dá pra perceber muita mudança porque nossa função tinha literalmente só 2 linhas, mas como ficaria para o nosso exemplo inicial? Vamos criar uma função para calcular a média de um aluno:"
   ]
  },
  {
   "cell_type": "code",
   "execution_count": null,
   "metadata": {
    "id": "Y6-eowQi6Gld"
   },
   "outputs": [],
   "source": [
    "def media_aluno(nome, notas):\n",
    "  soma = 0\n",
    "  for nota in notas:\n",
    "    soma += nota\n",
    "  media = soma/len(notas)\n",
    "  print(nome + ': ' + str(media))"
   ]
  },
  {
   "cell_type": "markdown",
   "metadata": {
    "id": "xMgv_rhx6OJn"
   },
   "source": [
    "OBS.: Nem sempre precisamos utilizar o *return*. Nesse caso, não queremos retornar nenhum valor depois do processamento: note que só queremos *imprimir na tela* o resultado desse processamento. Isso pode ser um pouco abstrato ainda, mas por enquanto só tenha em mente que às vezes não queremos retornar valores das nossas funções. Esse tipo de função, que não retorna nada, é chamada de função *void*.\n",
    "\n",
    "Pronto! Agora que temos a definição da nossa função, podemos chamá-la para cada aluno:"
   ]
  },
  {
   "cell_type": "code",
   "execution_count": null,
   "metadata": {
    "id": "bTHkVJna6peT"
   },
   "outputs": [],
   "source": [
    "media_aluno('Maria', [10, 8, 9, 10])\n",
    "media_aluno('João', [8, 9, 7, 8])\n",
    "media_aluno('Alice', [7, 8, 9, 10])"
   ]
  },
  {
   "cell_type": "code",
   "execution_count": null,
   "metadata": {
    "id": "_v-7SU3y6Roa"
   },
   "outputs": [],
   "source": [
    "media_aluno(notas = [10, 8, 9, 10], nome = 'Maria')"
   ]
  },
  {
   "cell_type": "markdown",
   "metadata": {
    "id": "YSgBh6r368aC"
   },
   "source": [
    "As chamadas de função em python sempre terão esse mesmo formato:\n",
    "\n",
    "```\n",
    "nome_da_funcao(argumentos)\n",
    "```\n",
    "\n",
    "Com 6 linhas de definição + 3 linhas para chamar a função, temos 9 linhas contra 23. Bem mais compacto, né? :)\n",
    "\n",
    "Vamos praticar um pouco! Para cada função abaixo, diga qual é o seu nome, quais são seus parâmetros, escreva um exemplo de chamada e diga o que ela vai retornar."
   ]
  },
  {
   "cell_type": "code",
   "execution_count": null,
   "metadata": {
    "id": "oKNy0MTv7mtz"
   },
   "outputs": [],
   "source": [
    "def maior_numero(lista):\n",
    "  maior = 0\n",
    "  for numero in lista:\n",
    "    if numero > maior:\n",
    "      maior = numero\n",
    "  return maior\n",
    "\n",
    "# Nome da função: maior_numero\n",
    "# Parâmetro(s) da função: lista\n",
    "# Exemplo de chamada:\n",
    "maior_numero([1, 2, 3])\n",
    "# O que espera-se que essa chamada vai retornar: 3"
   ]
  },
  {
   "cell_type": "code",
   "execution_count": null,
   "metadata": {
    "id": "J3EA6XTj8IeJ"
   },
   "outputs": [],
   "source": [
    "def funcao_inutil(parametro_inutil1, parametro_inutil2, parametro_inutil3):\n",
    "  processamento_inutil = [1, 2, 3, 4, 5, 6]\n",
    "  processamento_inutil_mult = [p*parametro_inutil1 for p in processamento_inutil]\n",
    "  processamento_inutil_final = []\n",
    "  for p in processamento_inutil_mult:\n",
    "    processamento_inutil_final.append(p//parametro_inutil2)\n",
    "  return 'batata'\n",
    "\n",
    "# Nome da função: funcao_inutil\n",
    "# Parâmetro(s) da função: parametro_inutil1, parametro_inutil2, parametro_inutil3\n",
    "# Exemplo de chamada: \n",
    "funcao_inutil(1, 2, 'inutil')\n",
    "# O que espera-se que essa chamada vai retornar: 'batata'"
   ]
  },
  {
   "cell_type": "code",
   "execution_count": null,
   "metadata": {
    "id": "yzyOY10J9DTD"
   },
   "outputs": [],
   "source": [
    "def conta_par(lista):\n",
    "  pares = 0\n",
    "  for i in lista:\n",
    "    if i%2 == 0:\n",
    "      pares += 1\n",
    "  return pares\n",
    "\n",
    "# Nome da função: conta_par\n",
    "# Parâmetro(s) da função: lista\n",
    "# Exemplo de chamada:\n",
    "conta_par([1, 2, 3, 4, 5, 6, 7, 8, 9, 10])\n",
    "# O que espera-se que essa chamada vai retornar: 5"
   ]
  }
 ],
 "metadata": {
  "colab": {
   "authorship_tag": "ABX9TyPfcDY6k1Z+7QQYP/rW2JGy",
   "collapsed_sections": [],
   "name": "funcoes.ipynb",
   "provenance": []
  },
  "kernelspec": {
   "display_name": "Python 3",
   "name": "python3"
  },
  "language_info": {
   "name": "python"
  }
 },
 "nbformat": 4,
 "nbformat_minor": 0
}