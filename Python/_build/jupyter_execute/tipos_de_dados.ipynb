{
 "cells": [
  {
   "cell_type": "markdown",
   "metadata": {
    "id": "oiluLEGXwd_B"
   },
   "source": [
    "# Tipos de dados\n",
    "\n",
    "Primeiro, vamos ver alguns tipos de dados em python. Para isso, usamos a função `type()` (\"tipo\" em inglês)."
   ]
  },
  {
   "cell_type": "code",
   "execution_count": null,
   "metadata": {
    "colab": {
     "base_uri": "https://localhost:8080/"
    },
    "executionInfo": {
     "elapsed": 9,
     "status": "ok",
     "timestamp": 1630456094833,
     "user": {
      "displayName": "Lais Carraro Leme Cavalheiro",
      "photoUrl": "",
      "userId": "15498185604646105525"
     },
     "user_tz": 180
    },
    "id": "TpFphteDutPq",
    "outputId": "90f82a25-33fc-40b6-9e29-a501054ad290"
   },
   "outputs": [
    {
     "data": {
      "text/plain": [
       "int"
      ]
     },
     "execution_count": 1,
     "metadata": {},
     "output_type": "execute_result"
    }
   ],
   "source": [
    "type(2)\n",
    "#type('abacaxi')\n",
    "#type('3')\n",
    "#type(False)\n",
    "#type(2.3)\n",
    "#type(int)"
   ]
  },
  {
   "cell_type": "markdown",
   "metadata": {
    "id": "lKRVDUEUv85K"
   },
   "source": [
    "Agora é a sua vez! Qual o tipo dos dados abaixo?"
   ]
  },
  {
   "cell_type": "code",
   "execution_count": null,
   "metadata": {
    "colab": {
     "base_uri": "https://localhost:8080/"
    },
    "executionInfo": {
     "elapsed": 6,
     "status": "ok",
     "timestamp": 1630456094833,
     "user": {
      "displayName": "Lais Carraro Leme Cavalheiro",
      "photoUrl": "",
      "userId": "15498185604646105525"
     },
     "user_tz": 180
    },
    "id": "Aj9YrucJwC1n",
    "outputId": "706a0eef-eb96-435b-909b-796d83e3b41f"
   },
   "outputs": [
    {
     "data": {
      "text/plain": [
       "int"
      ]
     },
     "execution_count": 2,
     "metadata": {},
     "output_type": "execute_result"
    }
   ],
   "source": [
    "24748329\n",
    "type(24748329)\n",
    "\n",
    "#13132.0\n",
    "#type(13132.0)\n",
    "\n",
    "#'dois'\n",
    "#type('dois')\n",
    "\n",
    "#False\n",
    "#type(False)\n",
    "\n",
    "#\"312.042\"\n",
    "#type(\"312.042\")\n",
    "\n",
    "#32.0000\n",
    "#type(32.0000)\n",
    "\n",
    "#False or True or False and False\n",
    "#type(False or True or False and False)\n",
    "\n",
    "#\"True or False\"\n",
    "#type(\"True or False\")\n",
    "\n",
    "#str\n",
    "#type(str)"
   ]
  }
 ],
 "metadata": {
  "colab": {
   "authorship_tag": "ABX9TyNMpCxjNOSfLJXkmFkJbQzu",
   "collapsed_sections": [],
   "name": "tipos_de_dados.ipynb",
   "provenance": []
  },
  "kernelspec": {
   "display_name": "Python 3",
   "name": "python3"
  },
  "language_info": {
   "name": "python"
  }
 },
 "nbformat": 4,
 "nbformat_minor": 0
}