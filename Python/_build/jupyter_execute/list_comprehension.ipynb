{
 "cells": [
  {
   "cell_type": "markdown",
   "metadata": {
    "id": "8pHgRtBAzmER"
   },
   "source": [
    "# List Comprehension\n",
    "\n",
    "Em python, sempre tem um jeito mais fácil (ou com menos linhas) de se fazer algo. E pra loops isso não é diferente!\n",
    "\n",
    "Vamos pensar num exemplo? Temos a lista abaixo:\n",
    "\n",
    "```\n",
    "nums = [1, 2, 3, 4, 5, 6, 7, 8, 9, 10]\n",
    "```\n",
    "\n",
    "Como faríamos um for para criar outra lista com estes números elevados ao quadrado?"
   ]
  },
  {
   "cell_type": "code",
   "execution_count": null,
   "metadata": {
    "colab": {
     "base_uri": "https://localhost:8080/"
    },
    "executionInfo": {
     "elapsed": 241,
     "status": "ok",
     "timestamp": 1630176316879,
     "user": {
      "displayName": "Lais Carraro Leme Cavalheiro",
      "photoUrl": "",
      "userId": "15498185604646105525"
     },
     "user_tz": 180
    },
    "id": "4lZzZWmB0oMK",
    "outputId": "74bfb8ca-566b-4609-c4d2-bc81c06d1c29"
   },
   "outputs": [
    {
     "name": "stdout",
     "output_type": "stream",
     "text": [
      "[1, 4, 9, 16, 25, 36, 49, 64, 81, 100]\n"
     ]
    }
   ],
   "source": [
    "nums = [1, 2, 3, 4, 5, 6, 7, 8, 9, 10]\n",
    "nums_quadrado = []\n",
    "\n",
    "for num in nums:\n",
    "  nums_quadrado.append(num**2) # a função append acrescenta um valor ao final da lista\n",
    "\n",
    "print(nums_quadrado)"
   ]
  },
  {
   "cell_type": "markdown",
   "metadata": {
    "id": "0wGl0j8l07-t"
   },
   "source": [
    "Funciona! Mas 7 linhas é o melhor que podemos fazer? Existe uma forma mais compacta de fazer esse tipo de for, e ela é chamada de _list comprehension_."
   ]
  },
  {
   "cell_type": "code",
   "execution_count": null,
   "metadata": {
    "colab": {
     "base_uri": "https://localhost:8080/"
    },
    "executionInfo": {
     "elapsed": 280,
     "status": "ok",
     "timestamp": 1630176371086,
     "user": {
      "displayName": "Lais Carraro Leme Cavalheiro",
      "photoUrl": "",
      "userId": "15498185604646105525"
     },
     "user_tz": 180
    },
    "id": "lY0yUxMB1KCv",
    "outputId": "8d3ac3a9-30b8-4e6c-8c64-f848269651b6"
   },
   "outputs": [
    {
     "name": "stdout",
     "output_type": "stream",
     "text": [
      "[1, 4, 9, 16, 25, 36, 49, 64, 81, 100]\n"
     ]
    }
   ],
   "source": [
    "nums = [1, 2, 3, 4, 5, 6, 7, 8, 9, 10]\n",
    "nums_quadrado = [num**2 for num in nums]\n",
    "print(nums_quadrado)"
   ]
  },
  {
   "cell_type": "markdown",
   "metadata": {
    "id": "nMjwiYQL1UY_"
   },
   "source": [
    "E funciona também! Em apenas 3 linhas :)  \n",
    "Vamos ver mais alguns exemplos?"
   ]
  },
  {
   "cell_type": "code",
   "execution_count": null,
   "metadata": {
    "colab": {
     "base_uri": "https://localhost:8080/"
    },
    "executionInfo": {
     "elapsed": 243,
     "status": "ok",
     "timestamp": 1630176404429,
     "user": {
      "displayName": "Lais Carraro Leme Cavalheiro",
      "photoUrl": "",
      "userId": "15498185604646105525"
     },
     "user_tz": 180
    },
    "id": "2JyrkykT1nwC",
    "outputId": "722e27e4-bd0e-4639-c4e4-0a4a799973a2"
   },
   "outputs": [
    {
     "name": "stdout",
     "output_type": "stream",
     "text": [
      "[4, 4, 4, 4, 9]\n"
     ]
    }
   ],
   "source": [
    "nomes = ['lala', 'lele', 'lili', 'lolo', 'ana paula']\n",
    "nomes_tamanho = [len(nome) for nome in nomes]\n",
    "print(nomes_tamanho)"
   ]
  },
  {
   "cell_type": "code",
   "execution_count": null,
   "metadata": {
    "colab": {
     "base_uri": "https://localhost:8080/"
    },
    "executionInfo": {
     "elapsed": 249,
     "status": "ok",
     "timestamp": 1630176430946,
     "user": {
      "displayName": "Lais Carraro Leme Cavalheiro",
      "photoUrl": "",
      "userId": "15498185604646105525"
     },
     "user_tz": 180
    },
    "id": "kbdnbNgq11VB",
    "outputId": "dfbdc1e8-c3f7-4532-dbc1-9c98583e5acf"
   },
   "outputs": [
    {
     "name": "stdout",
     "output_type": "stream",
     "text": [
      "[1, 2, 4, 8, 16, 32, 64]\n"
     ]
    }
   ],
   "source": [
    "potencias = [0, 1, 2, 3, 4, 5, 6]\n",
    "dois_potencias = [2**p for p in potencias]\n",
    "print(dois_potencias)"
   ]
  },
  {
   "cell_type": "code",
   "execution_count": null,
   "metadata": {
    "colab": {
     "base_uri": "https://localhost:8080/"
    },
    "executionInfo": {
     "elapsed": 251,
     "status": "ok",
     "timestamp": 1630176512585,
     "user": {
      "displayName": "Lais Carraro Leme Cavalheiro",
      "photoUrl": "",
      "userId": "15498185604646105525"
     },
     "user_tz": 180
    },
    "id": "FxJSCOz45aDc",
    "outputId": "2f44d663-9f28-459d-adb2-a3ae093ed526"
   },
   "outputs": [
    {
     "name": "stdout",
     "output_type": "stream",
     "text": [
      "[1, 3, 4, 1000, 256, 32, 46656]\n"
     ]
    }
   ],
   "source": [
    "potencias = list(range(7))\n",
    "numeros = [100, 3, 2, 10, 4, 2, 6]\n",
    "numeros_potencias = [numeros[i]**potencias[i] for i in range(len(numeros))]\n",
    "print(numeros_potencias)"
   ]
  }
 ],
 "metadata": {
  "colab": {
   "authorship_tag": "ABX9TyMHPzwaCZOdLowrTnOi4Nki",
   "collapsed_sections": [],
   "name": "list_comprehension.ipynb",
   "provenance": []
  },
  "kernelspec": {
   "display_name": "Python 3",
   "name": "python3"
  },
  "language_info": {
   "name": "python"
  }
 },
 "nbformat": 4,
 "nbformat_minor": 0
}