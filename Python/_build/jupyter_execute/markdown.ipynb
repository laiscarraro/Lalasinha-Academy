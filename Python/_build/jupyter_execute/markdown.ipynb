{
 "cells": [
  {
   "cell_type": "markdown",
   "metadata": {
    "id": "WoBtIBk2GZW3"
   },
   "source": [
    "# O que é um notebook?\n",
    "\n",
    "As aulas deste curso estão no formato de *notebook*. Um notebook é composto por diversos blocos, chamados *células*. Os notebooks podem ter tantos células de texto, como esta, quanto células de código, como a célula abaixo:"
   ]
  },
  {
   "cell_type": "code",
   "execution_count": null,
   "metadata": {
    "id": "B-b6ly3cFnqY"
   },
   "outputs": [],
   "source": [
    "print('Eu sou um código!')"
   ]
  },
  {
   "cell_type": "markdown",
   "metadata": {
    "id": "kdFI5Ff1GvPO"
   },
   "source": [
    "Mesmo sem saber exatamente o que a célula acima faz, podemos perceber que ela mostra uma mensagem na tela quando executada. Para executá-la, basta"
   ]
  }
 ],
 "metadata": {
  "colab": {
   "authorship_tag": "ABX9TyPZJfx1Ipv2JtDLI2KnTrQL",
   "name": "markdown.ipynb",
   "provenance": []
  },
  "kernelspec": {
   "display_name": "Python 3",
   "name": "python3"
  },
  "language_info": {
   "name": "python"
  }
 },
 "nbformat": 4,
 "nbformat_minor": 0
}