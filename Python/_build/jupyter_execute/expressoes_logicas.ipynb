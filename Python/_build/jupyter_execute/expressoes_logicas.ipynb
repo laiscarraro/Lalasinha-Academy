{
 "cells": [
  {
   "cell_type": "markdown",
   "metadata": {
    "id": "x6kLzEcW0Yt2"
   },
   "source": [
    "# Expressões lógicas\n",
    "\n",
    "Se você já viu SQL, já sabe o que são expressões lógicas. Sempre usamos esse tipo de expressão dentro do WHERE e dos CASEs WHEN que fazemos!\n",
    "\n",
    "Toda expressão lógica resulta num **valor-verdade**, ou seja, verdadeiro (True) ou falso (False). Chamamos essas expressões também de *booleanas*.\n",
    "\n",
    "Podemos unir valores-verdade utilizando *conectivos lógicos*, que também usamos em SQL. São eles:\n",
    "- AND\n",
    "- OR\n",
    "- NOT\n",
    "\n",
    "Sabemos também que **comparações também geram valores-verdade**, ou seja, toda comparação entre variáveis é uma expressão lógica. Utilizaremos as expressões lógicas para duas estruturas muito importantes em programação, os *controladores de fluxo*, que veremos mais adiante."
   ]
  },
  {
   "cell_type": "code",
   "execution_count": null,
   "metadata": {
    "id": "08SXcgrY2Vse"
   },
   "outputs": [],
   "source": [
    "# Qual é falso?\n",
    "\n",
    "print(5 > 3)\n",
    "print(8 <= 2*4)\n",
    "print(4**3 > 3**4)"
   ]
  },
  {
   "cell_type": "code",
   "execution_count": null,
   "metadata": {
    "id": "MTmXbVUe20pc"
   },
   "outputs": [],
   "source": [
    "# Qual é falso?\n",
    "\n",
    "meu_nome_é_laís = True\n",
    "eu_tenho_20_anos = False\n",
    "\n",
    "print(meu_nome_é_laís and eu_tenho_20_anos)\n",
    "print(meu_nome_é_laís or eu_tenho_20_anos)\n",
    "print(not eu_tenho_20_anos and meu_nome_é_laís)"
   ]
  },
  {
   "cell_type": "code",
   "execution_count": null,
   "metadata": {
    "id": "YTLS2BTQ3PxX"
   },
   "outputs": [],
   "source": [
    "# Qual é falso?\n",
    "\n",
    "valores = [2*2 <= 1**120, '0' == 0 or 3*2 > 5, True or False, True and not True]\n",
    "\n",
    "print(valores[2] and valores[1])\n",
    "print(valores[-1] or not valores[0])\n",
    "print(not (valores[0] and valores[1]) and valores[3])"
   ]
  }
 ],
 "metadata": {
  "colab": {
   "authorship_tag": "ABX9TyNZPJCy1uDVx+EThEzhCqfd",
   "collapsed_sections": [],
   "name": "expressoes_logicas.ipynb",
   "provenance": []
  },
  "kernelspec": {
   "display_name": "Python 3",
   "name": "python3"
  },
  "language_info": {
   "name": "python"
  }
 },
 "nbformat": 4,
 "nbformat_minor": 0
}