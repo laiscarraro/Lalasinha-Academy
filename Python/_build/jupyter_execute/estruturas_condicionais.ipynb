{
 "cells": [
  {
   "cell_type": "markdown",
   "metadata": {
    "id": "hHZg5wq95rQ5"
   },
   "source": [
    "# Estruturas condicionais\n",
    "\n",
    "Em SQL, temos uma estrutura muito semelhante: o CASE. Vamos dar uma olhada em como um CASE é estruturado:\n",
    "\n",
    "```\n",
    "CASE\n",
    "  WHEN condição 1 THEN resultado 1\n",
    "  WHEN condição 2 THEN resultado 2\n",
    "  ...\n",
    "  ELSE resuntado N\n",
    "END\n",
    "```\n",
    "\n",
    "Em python, temos uma estrutura muito similar: o **if**. Em português, *if* quer dizer *se*, e *else* quer dizer *senão*. O *elif* é uma abreviação para *else if*, comum em outras linguagens de programação, que pode ser traduzido como *senão se*. Vamos ver a estrutura do if:\n",
    "\n",
    "```\n",
    "if condição 1:\n",
    "  resultado 1\n",
    "elif condição 2:\n",
    "  resultado 2\n",
    "...\n",
    "else:\n",
    "  resultado N\n",
    "```\n",
    "\n",
    "Vamos ver um exemplo prático? Vamos supor que nós temos uma coluna \"idade\", e queremos separar em 3 faixas de valor: \"< 10\", \"< 20\" e \"< 30\". Podemos estruturar um CASE da seguinte forma:\n",
    "\n",
    "```\n",
    "CASE\n",
    "  WHEN idade < 10 THEN \"< 10\"\n",
    "  WHEN idade < 20 THEN \"< 20\"\n",
    "  ELSE \"< 30\"\n",
    "END\n",
    "```\n",
    "\n",
    "Simples, não? Podemos imaginar agora que temos uma variável \"idade\" em python, e queremos separá-la numa dessas faixas de valor. Podemos estruturar o if dessa forma:\n",
    "\n",
    "```\n",
    "if idade < 10:\n",
    "  print(\"< 10\")\n",
    "elif idade < 20:\n",
    "  print(\"< 20\")\n",
    "else:\n",
    "  print(\"< 30)\n",
    "```\n",
    "\n",
    "Agora você sabe if/elif/else! Vamos testar seus conhecimentos abaixo."
   ]
  },
  {
   "cell_type": "code",
   "execution_count": null,
   "metadata": {
    "id": "kN5WnlYX8q4e"
   },
   "outputs": [],
   "source": [
    "# O que essa célula vai imprimir?\n",
    "a = 3\n",
    "b = 13\n",
    "\n",
    "if a%b == 0:\n",
    "  print('a é divisível por b')\n",
    "else:\n",
    "  print('a não é divisível por b')"
   ]
  },
  {
   "cell_type": "code",
   "execution_count": null,
   "metadata": {
    "id": "hiQ5Fkeh8vAY"
   },
   "outputs": [],
   "source": [
    "# O que essa célula vai imprimir?\n",
    "ranking = ['Banana', 'Maçã', 'Uva', 'Goiaba']\n",
    "\n",
    "if ranking[0] == 'Uva':\n",
    "  print('A fruta vencedora pode ter caroço ou não')\n",
    "elif ranking[0] == 'Goiaba':\n",
    "  print('A fruta vencedora tem muitos caroços')\n",
    "else:\n",
    "  print('A fruta vencedora é chata')"
   ]
  },
  {
   "cell_type": "code",
   "execution_count": null,
   "metadata": {
    "id": "oGmbkYq68vf_"
   },
   "outputs": [],
   "source": [
    "# O que essa célula vai imprimir?\n",
    "true = False\n",
    "false = True\n",
    "\n",
    "if false and false:\n",
    "  print('a b c')\n",
    "elif false == True:\n",
    "  print('a be ce')\n",
    "else:\n",
    "  print('abc')"
   ]
  },
  {
   "cell_type": "code",
   "execution_count": null,
   "metadata": {
    "id": "8nQLKanD8v4j"
   },
   "outputs": [],
   "source": [
    "# O que essa célula vai imprimir?\n",
    "nao_tenho_carro = True\n",
    "nao_tenho_grana = True\n",
    "ficar_comigo = True\n",
    "\n",
    "if nao_tenho_carro and nao_tenho_grana and ficar_comigo:\n",
    "  print('é porque gosta')\n",
    "else:\n",
    "  print('padrão né')"
   ]
  }
 ],
 "metadata": {
  "colab": {
   "authorship_tag": "ABX9TyMrsAbxMkrvDfaWc/rbSpKm",
   "collapsed_sections": [],
   "name": "estruturas_condicionais.ipynb",
   "provenance": []
  },
  "kernelspec": {
   "display_name": "Python 3",
   "name": "python3"
  },
  "language_info": {
   "name": "python"
  }
 },
 "nbformat": 4,
 "nbformat_minor": 0
}