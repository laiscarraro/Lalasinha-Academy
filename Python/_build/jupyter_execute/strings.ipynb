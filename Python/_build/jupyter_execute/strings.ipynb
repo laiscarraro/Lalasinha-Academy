{
 "cells": [
  {
   "cell_type": "markdown",
   "metadata": {
    "id": "73CE__2B9i2-"
   },
   "source": [
    "# Manipulação de strings\n",
    "\n",
    "Até agora, não trabalhamos muito a fundo com strings. Hoje, vamos aprender alguns truques muito legais para manipulá-las :)  \n",
    "\n",
    "Uma coisa que você ainda não sabe é que strings não são nada mais, nada menos, que *listas de caracteres*. Por isso, tudo o que fazemos com listas (acessar por indexação, percorrer, etc) podemos fazer com strings! Vamos tentar com a string abaixo:"
   ]
  },
  {
   "cell_type": "code",
   "execution_count": null,
   "metadata": {
    "colab": {
     "base_uri": "https://localhost:8080/"
    },
    "executionInfo": {
     "elapsed": 225,
     "status": "ok",
     "timestamp": 1626904928593,
     "user": {
      "displayName": "Lais Carraro Leme Cavalheiro",
      "photoUrl": "",
      "userId": "15498185604646105525"
     },
     "user_tz": 180
    },
    "id": "uecCz-Yt-u6_",
    "outputId": "79b14ed9-b44e-48f7-f42d-7c76f9986576"
   },
   "outputs": [
    {
     "name": "stdout",
     "output_type": "stream",
     "text": [
      "O\n",
      "a\n",
      "OI, EU SOU TIPO UMA LISTA\n",
      "OI, EU SOU TIPO UMA LISTA\n"
     ]
    }
   ],
   "source": [
    "texto = 'Oi, eu sou tipo uma lista'\n",
    "print(texto[0]) # primeiro caracter da string\n",
    "print(texto[-1]) # último cadacter da string\n",
    "\n",
    "for letra in texto:\n",
    "  print(letra.upper(), end='') # upper() quer dizer que a letra vai ser maiúscula, end='' quer dizer que não vai pular linha\n",
    "\n",
    "print('\\n'+texto.upper())"
   ]
  },
  {
   "cell_type": "markdown",
   "metadata": {
    "id": "FEPESZAJ_UnT"
   },
   "source": [
    "Legal, né? Podemos brincar com strings do mesmo jeito que brincamos com listas. Por exemplo, a função abaixo troca todas as vogais por 'i':"
   ]
  },
  {
   "cell_type": "code",
   "execution_count": null,
   "metadata": {
    "colab": {
     "base_uri": "https://localhost:8080/"
    },
    "executionInfo": {
     "elapsed": 238,
     "status": "ok",
     "timestamp": 1626904971806,
     "user": {
      "displayName": "Lais Carraro Leme Cavalheiro",
      "photoUrl": "",
      "userId": "15498185604646105525"
     },
     "user_tz": 180
    },
    "id": "SxvUReYw_wec",
    "outputId": "cb73b8b0-2164-4681-f6a9-300c9f44bed6"
   },
   "outputs": [
    {
     "name": "stdout",
     "output_type": "stream",
     "text": [
      "Bibizinhi fifinhi miis lindinhi\n"
     ]
    }
   ],
   "source": [
    "def falar_com_bebe(texto):\n",
    "  vogais_sem_i = 'aeou'\n",
    "  texto_final = ''\n",
    "  for letra in texto:\n",
    "    if letra in vogais_sem_i:\n",
    "      texto_final += 'i'\n",
    "    else:\n",
    "      texto_final += letra\n",
    "  return texto_final\n",
    "\n",
    "print(falar_com_bebe('Bebezinho fofinho mais lindinho'))"
   ]
  },
  {
   "cell_type": "markdown",
   "metadata": {
    "id": "KWzcf_hVBkJl"
   },
   "source": [
    "Às vezes, principalmente quando trabalhamos com frases, queremos separar uma string em várias partes diferentes, por exemplo, em palavras. Para isso, precisaríamos \"cortar\" a string sempre que encontrássemos um espaço. E, para fazer isso, temos a função *split*. Devemos passar como parâmetro o caracter ou a sequência de caracteres onde queremos cortar nossa string:"
   ]
  },
  {
   "cell_type": "code",
   "execution_count": null,
   "metadata": {
    "colab": {
     "base_uri": "https://localhost:8080/"
    },
    "executionInfo": {
     "elapsed": 224,
     "status": "ok",
     "timestamp": 1626905207074,
     "user": {
      "displayName": "Lais Carraro Leme Cavalheiro",
      "photoUrl": "",
      "userId": "15498185604646105525"
     },
     "user_tz": 180
    },
    "id": "42cLIXA9p4tu",
    "outputId": "753d68df-c209-4f8c-cff3-f84ab1248862"
   },
   "outputs": [
    {
     "name": "stdout",
     "output_type": "stream",
     "text": [
      "['meu', 'nome', 'é', 'lala']\n"
     ]
    }
   ],
   "source": [
    "frase = 'meu nome é lala'\n",
    "palavras = frase.split(' ')\n",
    "print(palavras)"
   ]
  },
  {
   "cell_type": "code",
   "execution_count": null,
   "metadata": {
    "colab": {
     "base_uri": "https://localhost:8080/"
    },
    "executionInfo": {
     "elapsed": 404,
     "status": "ok",
     "timestamp": 1626905237562,
     "user": {
      "displayName": "Lais Carraro Leme Cavalheiro",
      "photoUrl": "",
      "userId": "15498185604646105525"
     },
     "user_tz": 180
    },
    "id": "tN_mYzYrqEKf",
    "outputId": "c336a444-e3d5-40eb-874a-922310edc89b"
   },
   "outputs": [
    {
     "name": "stdout",
     "output_type": "stream",
     "text": [
      "gmail.com\n"
     ]
    }
   ],
   "source": [
    "email = 'lala#10TopazioFuracao@gmail.com'\n",
    "dominio = email.split('@')[1]\n",
    "print(dominio)"
   ]
  },
  {
   "cell_type": "markdown",
   "metadata": {
    "id": "d3UseIkzqh4o"
   },
   "source": [
    "Por último, vamos aprender a pegar mais de um caracter de uma string por vez, acessando ela como uma lista. Vai ficar mais claro na célula abaixo:"
   ]
  },
  {
   "cell_type": "code",
   "execution_count": null,
   "metadata": {
    "colab": {
     "base_uri": "https://localhost:8080/"
    },
    "executionInfo": {
     "elapsed": 342,
     "status": "ok",
     "timestamp": 1626905364227,
     "user": {
      "displayName": "Lais Carraro Leme Cavalheiro",
      "photoUrl": "",
      "userId": "15498185604646105525"
     },
     "user_tz": 180
    },
    "id": "claWf717xrjg",
    "outputId": "6fdd68fb-a24d-496f-d2ed-ecf9c7e5a0d5"
   },
   "outputs": [
    {
     "name": "stdout",
     "output_type": "stream",
     "text": [
      "cd\n",
      "abcde\n",
      "uvwxyz\n"
     ]
    }
   ],
   "source": [
    "alfabeto = 'abcdefghijklmnopqrstuvwxyz'\n",
    "print(alfabeto[2:4]) # vai imprimir as posições 2 a 3\n",
    "print(alfabeto[:5]) # vai imprimir da posição 0 até a 4\n",
    "print(alfabeto[20:]) # vai imprimir da posição 20 em diante"
   ]
  },
  {
   "cell_type": "markdown",
   "metadata": {
    "id": "B-um7_4jyr4b"
   },
   "source": [
    "Por enquanto, isso é tudo que precisamos para manipular as strings. Agora, vamos fazer exercícios! Vamos dar uma entrada e uma saída, e para cada exemplo você deverá escrever o código que pega essa entrada e transforma na saída."
   ]
  },
  {
   "cell_type": "code",
   "execution_count": null,
   "metadata": {
    "colab": {
     "base_uri": "https://localhost:8080/"
    },
    "executionInfo": {
     "elapsed": 236,
     "status": "ok",
     "timestamp": 1626905508640,
     "user": {
      "displayName": "Lais Carraro Leme Cavalheiro",
      "photoUrl": "",
      "userId": "15498185604646105525"
     },
     "user_tz": 180
    },
    "id": "3dmR4Z19zeZO",
    "outputId": "c165fb40-0035-431d-9e0c-7eeb46492a39"
   },
   "outputs": [
    {
     "name": "stdout",
     "output_type": "stream",
     "text": [
      "c\n",
      "c\n"
     ]
    }
   ],
   "source": [
    "entrada = 'a b c d e'\n",
    "saída = 'c'\n",
    "\n",
    "# seu código\n",
    "print(entrada.split(' ')[2])\n",
    "print(entrada[4])"
   ]
  },
  {
   "cell_type": "code",
   "execution_count": null,
   "metadata": {
    "colab": {
     "base_uri": "https://localhost:8080/"
    },
    "executionInfo": {
     "elapsed": 258,
     "status": "ok",
     "timestamp": 1626905602233,
     "user": {
      "displayName": "Lais Carraro Leme Cavalheiro",
      "photoUrl": "",
      "userId": "15498185604646105525"
     },
     "user_tz": 180
    },
    "id": "Qd5SroXsw8jL",
    "outputId": "2c39c64e-514c-468a-8704-d4e46bba9587"
   },
   "outputs": [
    {
     "name": "stdout",
     "output_type": "stream",
     "text": [
      "www.umsite\n",
      "www.umsite\n"
     ]
    }
   ],
   "source": [
    "entrada = 'www.umsitequalquer.com'\n",
    "saida = 'www.umsite'\n",
    "\n",
    "# seu código\n",
    "print(entrada.split('qualquer.com')[0])\n",
    "print(entrada[:10])"
   ]
  },
  {
   "cell_type": "code",
   "execution_count": null,
   "metadata": {
    "colab": {
     "base_uri": "https://localhost:8080/"
    },
    "executionInfo": {
     "elapsed": 226,
     "status": "ok",
     "timestamp": 1626905656163,
     "user": {
      "displayName": "Lais Carraro Leme Cavalheiro",
      "photoUrl": "",
      "userId": "15498185604646105525"
     },
     "user_tz": 180
    },
    "id": "5cps_8MWwaXS",
    "outputId": "0e3c9be4-d0ea-4dee-f4fa-82b3dc2412a8"
   },
   "outputs": [
    {
     "name": "stdout",
     "output_type": "stream",
     "text": [
      "escolher\n"
     ]
    }
   ],
   "source": [
    "entrada = 'Minha mãe mandou eu escolher esse daqui'\n",
    "saida = 'escolher'\n",
    "\n",
    "# seu código\n",
    "print(entrada.split(' ')[4])"
   ]
  }
 ],
 "metadata": {
  "colab": {
   "authorship_tag": "ABX9TyOWgyh9XOZQ52U4QMZHta5B",
   "collapsed_sections": [],
   "name": "strings.ipynb",
   "provenance": []
  },
  "kernelspec": {
   "display_name": "Python 3",
   "name": "python3"
  },
  "language_info": {
   "name": "python"
  }
 },
 "nbformat": 4,
 "nbformat_minor": 0
}